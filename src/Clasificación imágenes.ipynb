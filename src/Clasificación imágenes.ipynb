{
 "cells": [
  {
   "cell_type": "code",
   "execution_count": 1,
   "id": "1b392d3c",
   "metadata": {},
   "outputs": [],
   "source": [
    "import matplotlib.pyplot as plt\n",
    "import numpy as np\n",
    "import pandas as pd\n",
    "import seaborn as sns\n",
    "from numpy import absolute\n",
    "from matplotlib.image import imread\n",
    "import cv2 \n",
    "import re\n",
    "from sklearn.preprocessing import MinMaxScaler"
   ]
  },
  {
   "cell_type": "markdown",
   "id": "43e5a089",
   "metadata": {},
   "source": [
    "## Cargar datos"
   ]
  },
  {
   "cell_type": "code",
   "execution_count": 2,
   "id": "d52bd339",
   "metadata": {
    "scrolled": false
   },
   "outputs": [
    {
     "data": {
      "text/html": [
       "<div>\n",
       "<style scoped>\n",
       "    .dataframe tbody tr th:only-of-type {\n",
       "        vertical-align: middle;\n",
       "    }\n",
       "\n",
       "    .dataframe tbody tr th {\n",
       "        vertical-align: top;\n",
       "    }\n",
       "\n",
       "    .dataframe thead th {\n",
       "        text-align: right;\n",
       "    }\n",
       "</style>\n",
       "<table border=\"1\" class=\"dataframe\">\n",
       "  <thead>\n",
       "    <tr style=\"text-align: right;\">\n",
       "      <th></th>\n",
       "      <th>Unnamed: 0</th>\n",
       "      <th>id_img</th>\n",
       "      <th>paths</th>\n",
       "      <th>label</th>\n",
       "    </tr>\n",
       "  </thead>\n",
       "  <tbody>\n",
       "    <tr>\n",
       "      <th>0</th>\n",
       "      <td>0</td>\n",
       "      <td>100</td>\n",
       "      <td>data\\train\\happy\\100.jpg</td>\n",
       "      <td>happy</td>\n",
       "    </tr>\n",
       "    <tr>\n",
       "      <th>1</th>\n",
       "      <td>1</td>\n",
       "      <td>10000</td>\n",
       "      <td>data\\train\\happy\\10000.jpg</td>\n",
       "      <td>happy</td>\n",
       "    </tr>\n",
       "    <tr>\n",
       "      <th>2</th>\n",
       "      <td>2</td>\n",
       "      <td>10001</td>\n",
       "      <td>data\\train\\happy\\10001.jpg</td>\n",
       "      <td>happy</td>\n",
       "    </tr>\n",
       "    <tr>\n",
       "      <th>3</th>\n",
       "      <td>3</td>\n",
       "      <td>10005</td>\n",
       "      <td>data\\train\\happy\\10005.jpg</td>\n",
       "      <td>happy</td>\n",
       "    </tr>\n",
       "    <tr>\n",
       "      <th>4</th>\n",
       "      <td>4</td>\n",
       "      <td>10035</td>\n",
       "      <td>data\\train\\happy\\10035.jpg</td>\n",
       "      <td>happy</td>\n",
       "    </tr>\n",
       "    <tr>\n",
       "      <th>...</th>\n",
       "      <td>...</td>\n",
       "      <td>...</td>\n",
       "      <td>...</td>\n",
       "      <td>...</td>\n",
       "    </tr>\n",
       "    <tr>\n",
       "      <th>12097</th>\n",
       "      <td>12097</td>\n",
       "      <td>9966</td>\n",
       "      <td>data\\train\\sadness\\9966.jpg</td>\n",
       "      <td>sadness</td>\n",
       "    </tr>\n",
       "    <tr>\n",
       "      <th>12098</th>\n",
       "      <td>12098</td>\n",
       "      <td>9974</td>\n",
       "      <td>data\\train\\sadness\\9974.jpg</td>\n",
       "      <td>sadness</td>\n",
       "    </tr>\n",
       "    <tr>\n",
       "      <th>12099</th>\n",
       "      <td>12099</td>\n",
       "      <td>9976</td>\n",
       "      <td>data\\train\\sadness\\9976.jpg</td>\n",
       "      <td>sadness</td>\n",
       "    </tr>\n",
       "    <tr>\n",
       "      <th>12100</th>\n",
       "      <td>12100</td>\n",
       "      <td>9986</td>\n",
       "      <td>data\\train\\sadness\\9986.jpg</td>\n",
       "      <td>sadness</td>\n",
       "    </tr>\n",
       "    <tr>\n",
       "      <th>12101</th>\n",
       "      <td>12101</td>\n",
       "      <td>9997</td>\n",
       "      <td>data\\train\\sadness\\9997.jpg</td>\n",
       "      <td>sadness</td>\n",
       "    </tr>\n",
       "  </tbody>\n",
       "</table>\n",
       "<p>12102 rows × 4 columns</p>\n",
       "</div>"
      ],
      "text/plain": [
       "       Unnamed: 0  id_img                        paths    label\n",
       "0               0     100     data\\train\\happy\\100.jpg    happy\n",
       "1               1   10000   data\\train\\happy\\10000.jpg    happy\n",
       "2               2   10001   data\\train\\happy\\10001.jpg    happy\n",
       "3               3   10005   data\\train\\happy\\10005.jpg    happy\n",
       "4               4   10035   data\\train\\happy\\10035.jpg    happy\n",
       "...           ...     ...                          ...      ...\n",
       "12097       12097    9966  data\\train\\sadness\\9966.jpg  sadness\n",
       "12098       12098    9974  data\\train\\sadness\\9974.jpg  sadness\n",
       "12099       12099    9976  data\\train\\sadness\\9976.jpg  sadness\n",
       "12100       12100    9986  data\\train\\sadness\\9986.jpg  sadness\n",
       "12101       12101    9997  data\\train\\sadness\\9997.jpg  sadness\n",
       "\n",
       "[12102 rows x 4 columns]"
      ]
     },
     "execution_count": 2,
     "metadata": {},
     "output_type": "execute_result"
    }
   ],
   "source": [
    "df=pd.read_csv('train_set.csv')\n",
    "df"
   ]
  },
  {
   "cell_type": "code",
   "execution_count": 3,
   "id": "47fe39ad",
   "metadata": {},
   "outputs": [
    {
     "name": "stdout",
     "output_type": "stream",
     "text": [
      "<class 'pandas.core.frame.DataFrame'>\n",
      "RangeIndex: 12102 entries, 0 to 12101\n",
      "Data columns (total 4 columns):\n",
      " #   Column      Non-Null Count  Dtype \n",
      "---  ------      --------------  ----- \n",
      " 0   Unnamed: 0  12102 non-null  int64 \n",
      " 1   id_img      12102 non-null  int64 \n",
      " 2   paths       12102 non-null  object\n",
      " 3   label       12102 non-null  object\n",
      "dtypes: int64(2), object(2)\n",
      "memory usage: 378.3+ KB\n"
     ]
    }
   ],
   "source": [
    "df.info() #no hay valores nulos"
   ]
  },
  {
   "cell_type": "code",
   "execution_count": 4,
   "id": "ea73c3d1",
   "metadata": {
    "scrolled": true
   },
   "outputs": [
    {
     "data": {
      "text/html": [
       "<div>\n",
       "<style scoped>\n",
       "    .dataframe tbody tr th:only-of-type {\n",
       "        vertical-align: middle;\n",
       "    }\n",
       "\n",
       "    .dataframe tbody tr th {\n",
       "        vertical-align: top;\n",
       "    }\n",
       "\n",
       "    .dataframe thead th {\n",
       "        text-align: right;\n",
       "    }\n",
       "</style>\n",
       "<table border=\"1\" class=\"dataframe\">\n",
       "  <thead>\n",
       "    <tr style=\"text-align: right;\">\n",
       "      <th></th>\n",
       "      <th>id_img</th>\n",
       "      <th>paths</th>\n",
       "      <th>label</th>\n",
       "    </tr>\n",
       "  </thead>\n",
       "  <tbody>\n",
       "    <tr>\n",
       "      <th>0</th>\n",
       "      <td>100</td>\n",
       "      <td>data\\train\\happy\\100.jpg</td>\n",
       "      <td>happy</td>\n",
       "    </tr>\n",
       "    <tr>\n",
       "      <th>1</th>\n",
       "      <td>10000</td>\n",
       "      <td>data\\train\\happy\\10000.jpg</td>\n",
       "      <td>happy</td>\n",
       "    </tr>\n",
       "    <tr>\n",
       "      <th>2</th>\n",
       "      <td>10001</td>\n",
       "      <td>data\\train\\happy\\10001.jpg</td>\n",
       "      <td>happy</td>\n",
       "    </tr>\n",
       "    <tr>\n",
       "      <th>3</th>\n",
       "      <td>10005</td>\n",
       "      <td>data\\train\\happy\\10005.jpg</td>\n",
       "      <td>happy</td>\n",
       "    </tr>\n",
       "    <tr>\n",
       "      <th>4</th>\n",
       "      <td>10035</td>\n",
       "      <td>data\\train\\happy\\10035.jpg</td>\n",
       "      <td>happy</td>\n",
       "    </tr>\n",
       "    <tr>\n",
       "      <th>...</th>\n",
       "      <td>...</td>\n",
       "      <td>...</td>\n",
       "      <td>...</td>\n",
       "    </tr>\n",
       "    <tr>\n",
       "      <th>12097</th>\n",
       "      <td>9966</td>\n",
       "      <td>data\\train\\sadness\\9966.jpg</td>\n",
       "      <td>sadness</td>\n",
       "    </tr>\n",
       "    <tr>\n",
       "      <th>12098</th>\n",
       "      <td>9974</td>\n",
       "      <td>data\\train\\sadness\\9974.jpg</td>\n",
       "      <td>sadness</td>\n",
       "    </tr>\n",
       "    <tr>\n",
       "      <th>12099</th>\n",
       "      <td>9976</td>\n",
       "      <td>data\\train\\sadness\\9976.jpg</td>\n",
       "      <td>sadness</td>\n",
       "    </tr>\n",
       "    <tr>\n",
       "      <th>12100</th>\n",
       "      <td>9986</td>\n",
       "      <td>data\\train\\sadness\\9986.jpg</td>\n",
       "      <td>sadness</td>\n",
       "    </tr>\n",
       "    <tr>\n",
       "      <th>12101</th>\n",
       "      <td>9997</td>\n",
       "      <td>data\\train\\sadness\\9997.jpg</td>\n",
       "      <td>sadness</td>\n",
       "    </tr>\n",
       "  </tbody>\n",
       "</table>\n",
       "<p>12102 rows × 3 columns</p>\n",
       "</div>"
      ],
      "text/plain": [
       "       id_img                        paths    label\n",
       "0         100     data\\train\\happy\\100.jpg    happy\n",
       "1       10000   data\\train\\happy\\10000.jpg    happy\n",
       "2       10001   data\\train\\happy\\10001.jpg    happy\n",
       "3       10005   data\\train\\happy\\10005.jpg    happy\n",
       "4       10035   data\\train\\happy\\10035.jpg    happy\n",
       "...       ...                          ...      ...\n",
       "12097    9966  data\\train\\sadness\\9966.jpg  sadness\n",
       "12098    9974  data\\train\\sadness\\9974.jpg  sadness\n",
       "12099    9976  data\\train\\sadness\\9976.jpg  sadness\n",
       "12100    9986  data\\train\\sadness\\9986.jpg  sadness\n",
       "12101    9997  data\\train\\sadness\\9997.jpg  sadness\n",
       "\n",
       "[12102 rows x 3 columns]"
      ]
     },
     "execution_count": 4,
     "metadata": {},
     "output_type": "execute_result"
    }
   ],
   "source": [
    "df=df.drop(columns='Unnamed: 0')\n",
    "df"
   ]
  },
  {
   "cell_type": "markdown",
   "id": "d93fdb6c",
   "metadata": {},
   "source": [
    "#### Cargamos las imágenes"
   ]
  },
  {
   "cell_type": "code",
   "execution_count": 5,
   "id": "b25ed83b",
   "metadata": {
    "scrolled": false
   },
   "outputs": [],
   "source": [
    "def cargar_imagenes(df):\n",
    "    images=[]\n",
    "\n",
    "    for path in df['paths']:\n",
    "        image = imread(path)\n",
    "        image=image.reshape((image.shape[0] * image.shape[1])) \n",
    "        images.append(image)\n",
    "    \n",
    "    return images\n"
   ]
  },
  {
   "cell_type": "code",
   "execution_count": 6,
   "id": "446decf9",
   "metadata": {},
   "outputs": [],
   "source": [
    "X=np.array(cargar_imagenes(df), dtype=np.uint8)\n",
    "y=df['label']"
   ]
  },
  {
   "cell_type": "code",
   "execution_count": 7,
   "id": "6a24c6ff",
   "metadata": {},
   "outputs": [
    {
     "name": "stdout",
     "output_type": "stream",
     "text": [
      "(12102, 2304)\n",
      "(12102,)\n",
      "[[162 163 158 ... 194 192 197]\n",
      " [134 127 134 ...  34  36  32]\n",
      " [253 253 247 ... 124 120 114]\n",
      " ...\n",
      " [ 44  44  45 ... 171 193 199]\n",
      " [109  23  21 ...  21  24  53]\n",
      " [ 92  86  87 ... 102 107  97]]\n"
     ]
    }
   ],
   "source": [
    "print(X.shape)\n",
    "print(y.shape)\n",
    "print(X)"
   ]
  },
  {
   "cell_type": "code",
   "execution_count": 8,
   "id": "3abf6b29",
   "metadata": {
    "scrolled": true
   },
   "outputs": [
    {
     "data": {
      "image/png": "[encoded data removed]",
      "text/plain": [
       "<Figure size 2000x200 with 5 Axes>"
      ]
     },
     "metadata": {},
     "output_type": "display_data"
    }
   ],
   "source": [
    "import matplotlib.pyplot as plt\n",
    "plt.figure(figsize=(20,2))\n",
    "\n",
    "for index, image in enumerate(X[0:5]):\n",
    "    plt.subplot(1,5,index+1)\n",
    "    label = df['label'][index]\n",
    "    plt.imshow(np.reshape(image,(48,48)), cmap=plt.cm.gray)\n",
    "    plt.title('Target: '+ str(label), fontsize=20)"
   ]
  },
  {
   "cell_type": "markdown",
   "id": "5487e2d0",
   "metadata": {},
   "source": [
    "## Dividir en train y test"
   ]
  },
  {
   "cell_type": "code",
   "execution_count": 9,
   "id": "64bcc12c",
   "metadata": {},
   "outputs": [],
   "source": [
    "from sklearn.model_selection import train_test_split\n",
    "\n",
    "X_train, X_test, y_train, y_test = train_test_split(X,\n",
    "                                                   y,\n",
    "                                                   test_size=0.20,\n",
    "                                                   random_state=42)\n",
    "\n",
    "# X_train.reshape(-1, 3)\n",
    "# X_test.reshape(-1, 3)"
   ]
  },
  {
   "cell_type": "code",
   "execution_count": 10,
   "id": "a61f7d5b",
   "metadata": {},
   "outputs": [
    {
     "name": "stdout",
     "output_type": "stream",
     "text": [
      "(9681, 2304)\n",
      "(2421, 2304)\n",
      "(9681,)\n",
      "(2421,)\n"
     ]
    }
   ],
   "source": [
    "print(X_train.shape)\n",
    "print(X_test.shape)\n",
    "print(y_train.shape)\n",
    "print(y_test.shape)"
   ]
  },
  {
   "cell_type": "code",
   "execution_count": 11,
   "id": "3d742c91",
   "metadata": {},
   "outputs": [],
   "source": [
    "# plt.pie(np.unique(y_train, return_counts=True),\n",
    "#         explode=(0, 0, 0, 0, 0, 0) , \n",
    "#         labels=['happy','sadness'],\n",
    "#         autopct='%1.1f%%')\n",
    "# plt.axis('equal')\n",
    "# plt.title('Proportion of each observed category')\n",
    "# plt.show()"
   ]
  },
  {
   "cell_type": "markdown",
   "id": "3b3b5d29",
   "metadata": {},
   "source": [
    "#### Comprobamos si las clases están desbalanceadas"
   ]
  },
  {
   "cell_type": "code",
   "execution_count": 12,
   "id": "4c1d8d09",
   "metadata": {},
   "outputs": [
    {
     "data": {
      "text/plain": [
       "happy      0.591055\n",
       "sadness    0.408945\n",
       "Name: label, dtype: float64"
      ]
     },
     "execution_count": 12,
     "metadata": {},
     "output_type": "execute_result"
    }
   ],
   "source": [
    "pd.Series(y_train).value_counts(normalize=True)"
   ]
  },
  {
   "cell_type": "markdown",
   "id": "e83cde71",
   "metadata": {},
   "source": [
    "### Escalar"
   ]
  },
  {
   "cell_type": "code",
   "execution_count": 13,
   "id": "8bbfbf1a",
   "metadata": {},
   "outputs": [],
   "source": [
    "# X_train = X_train / 255.0 \n",
    "# X_test = X_test / 255.0"
   ]
  },
  {
   "cell_type": "markdown",
   "id": "d26315ab",
   "metadata": {},
   "source": [
    "## Entrenar modelos"
   ]
  },
  {
   "cell_type": "markdown",
   "id": "f76203ad",
   "metadata": {},
   "source": [
    "### Catboost"
   ]
  },
  {
   "cell_type": "code",
   "execution_count": 27,
   "id": "2960463a",
   "metadata": {},
   "outputs": [],
   "source": [
    "cb=CatBoostClassifier(\n",
    "                        iterations=3000,\n",
    "                        l2_leaf_reg=6,\n",
    "                       learning_rate=0.1,\n",
    "                      depth=5,\n",
    "                      thread_count=6,\n",
    "                      verbose=False)"
   ]
  },
  {
   "cell_type": "code",
   "execution_count": 28,
   "id": "ee3ce3d4",
   "metadata": {},
   "outputs": [
    {
     "data": {
      "text/plain": [
       "<catboost.core.CatBoostClassifier at 0x2465e716a10>"
      ]
     },
     "execution_count": 28,
     "metadata": {},
     "output_type": "execute_result"
    }
   ],
   "source": [
    "cb.fit(X_train, y_train)"
   ]
  },
  {
   "cell_type": "markdown",
   "id": "ee630771",
   "metadata": {},
   "source": [
    "### Métricas de error"
   ]
  },
  {
   "cell_type": "code",
   "execution_count": 29,
   "id": "49dd50e5",
   "metadata": {
    "scrolled": true
   },
   "outputs": [
    {
     "name": "stdout",
     "output_type": "stream",
     "text": [
      "              precision    recall  f1-score   support\n",
      "\n",
      "       happy       1.00      1.00      1.00      5722\n",
      "     sadness       1.00      1.00      1.00      3959\n",
      "\n",
      "    accuracy                           1.00      9681\n",
      "   macro avg       1.00      1.00      1.00      9681\n",
      "weighted avg       1.00      1.00      1.00      9681\n",
      "\n",
      "\n",
      "\n",
      "              precision    recall  f1-score   support\n",
      "\n",
      "       happy       0.80      0.83      0.81      1442\n",
      "     sadness       0.73      0.69      0.71       979\n",
      "\n",
      "    accuracy                           0.77      2421\n",
      "   macro avg       0.77      0.76      0.76      2421\n",
      "weighted avg       0.77      0.77      0.77      2421\n",
      "\n"
     ]
    }
   ],
   "source": [
    "predictions_train_cb = cb.predict(X_train)\n",
    "predictions_test_cb = cb.predict(X_test)\n",
    "\n",
    "print(classification_report(y_train, predictions_train_cb))\n",
    "print('\\n')\n",
    "\n",
    "print(classification_report(y_test, predictions_test_cb))"
   ]
  },
  {
   "cell_type": "markdown",
   "id": "df6c4248",
   "metadata": {},
   "source": [
    "### Entrenamos el modelo con todo el cojunto"
   ]
  },
  {
   "cell_type": "code",
   "execution_count": null,
   "id": "69abbab2",
   "metadata": {},
   "outputs": [],
   "source": [
    "cb=CatBoostClassifier(\n",
    "                        iterations=3000,\n",
    "                        l2_leaf_reg=6,\n",
    "                       learning_rate=0.1,\n",
    "                      depth=5,\n",
    "                      thread_count=6,\n",
    "                      verbose=False)"
   ]
  },
  {
   "cell_type": "code",
   "execution_count": null,
   "id": "9192b0fa",
   "metadata": {},
   "outputs": [],
   "source": [
    "cb.fit(X, y)"
   ]
  },
  {
   "cell_type": "markdown",
   "id": "2395ec0f",
   "metadata": {},
   "source": [
    "## Predecir con nuevos datos (archivo test)"
   ]
  },
  {
   "cell_type": "code",
   "execution_count": null,
   "id": "61bd9292",
   "metadata": {},
   "outputs": [],
   "source": [
    "df_test=pd.read_csv('test_set.csv')\n",
    "df_test"
   ]
  },
  {
   "cell_type": "code",
   "execution_count": null,
   "id": "94e80c09",
   "metadata": {},
   "outputs": [],
   "source": [
    "test=np.array(cargar_imagenes(df_test), dtype=np.uint8)"
   ]
  },
  {
   "cell_type": "code",
   "execution_count": null,
   "id": "db826374",
   "metadata": {},
   "outputs": [],
   "source": [
    "# test = test / 255.0"
   ]
  },
  {
   "cell_type": "code",
   "execution_count": null,
   "id": "83bd5781",
   "metadata": {},
   "outputs": [],
   "source": [
    "pred= cb.predict(test)"
   ]
  },
  {
   "cell_type": "code",
   "execution_count": null,
   "id": "8e817be7",
   "metadata": {},
   "outputs": [],
   "source": [
    "for index, valor in enumerate(pred):\n",
    "    df_test.loc[index,['label']]=valor\n",
    "\n",
    "df_test"
   ]
  },
  {
   "cell_type": "code",
   "execution_count": null,
   "id": "72dca026",
   "metadata": {},
   "outputs": [],
   "source": [
    "df_test=df_test[['id_img','label']]\n",
    "df_test"
   ]
  },
  {
   "cell_type": "code",
   "execution_count": null,
   "id": "00dd74ca",
   "metadata": {},
   "outputs": [],
   "source": [
    "# df_test.to_csv('Catboost2.csv', sep=',', index=False)"
   ]
  },
  {
   "cell_type": "code",
   "execution_count": null,
   "id": "a72f1948",
   "metadata": {},
   "outputs": [],
   "source": [
    "df_test['label'].value_counts()"
   ]
  }
 ],
 "metadata": {
  "kernelspec": {
   "display_name": "Python 3 (ipykernel)",
   "language": "python",
   "name": "python3"
  },
  "language_info": {
   "codemirror_mode": {
    "name": "ipython",
    "version": 3
   },
   "file_extension": ".py",
   "mimetype": "text/x-python",
   "name": "python",
   "nbconvert_exporter": "python",
   "pygments_lexer": "ipython3",
   "version": "3.10.4"
  }
 },
 "nbformat": 4,
 "nbformat_minor": 5
}
